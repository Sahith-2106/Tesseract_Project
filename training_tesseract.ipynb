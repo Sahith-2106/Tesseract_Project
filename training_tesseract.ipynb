import subprocess

# Paths and file names
lang = "de"  # Replace with your language code
font_properties = "font_properties"  # Replace with your font properties file name
training_text = "training_text"  # Replace with your training text file name

# Paths to Tesseract tools
tesseract_cmd = "/opt/homebrew/bin/tesseract"  # Replace with the path to your Tesseract executable
tesstrain_cmd = "tesstrain.sh"  # Replace with the path to tesstrain.sh

# Generate the training data
subprocess.run([
    tesstrain_cmd,
    "--fonts_dir", "path/to/fonts_directory",
    "--fontlist", font_properties,
    "--lang", lang,
    "--linedata_only",
    "--noextract_font_properties",
    "--output_dir", "path/to/output_directory",
    "--tessdata_dir", "path/to/tessdata_directory",
    "--save_box_tiff"
])

# Extract features
subprocess.run([
    tesstrain_cmd,
    "--lang", lang,
    "--linedata_only",
    "--extract_font_properties",
    "--fonts_dir", "path/to/fonts_directory",
    "--fontlist", font_properties,
    "--noextract_font_properties",
    "--output_dir", "path/to/output_directory",
    "--tessdata_dir", "path/to/tessdata_directory"
])

# Cluster the training data
subprocess.run([
    tesstrain_cmd,
    "--lang", lang,
    "--linedata_only",
    "--fonts_dir", "path/to/fonts_directory",
    "--fontlist", font_properties,
    "--noextract_font_properties",
    "--output_dir", "path/to/output_directory",
    "--tessdata_dir", "path/to/tessdata_directory",
    "--run_shape_clustering"
])

# Fine-tune LSTM models
subprocess.run([
    tesstrain_cmd,
    "--lang", lang,
    "--linedata_only",
    "--fonts_dir", "path/to/fonts_directory",
    "--fontlist", font_properties,
    "--noextract_font_properties",
    "--output_dir", "path/to/output_directory",
    "--tessdata_dir", "path/to/tessdata_directory",
    "--maxpages", "200"
])

# Evaluate the trained data
subprocess.run([
    tesstrain_cmd,
    "--lang", lang,
    "--linedata_only",
    "--fonts_dir", "path/to/fonts_directory",
    "--fontlist", font_properties,
    "--noextract_font_properties",
    "--output_dir", "path/to/output_directory",
    "--tessdata_dir", "path/to/tessdata_directory",
    "--maxpages", "200",
    "--exposures", "0"
])

# Combine trained data
subprocess.run([
    "combine_tessdata",
    "-e", "path/to/tessdata_directory/{0}.traineddata".format(lang),
    "--output", "path/to/output_directory/{0}.traineddata".format(lang),
    "--append", "path/to/output_directory/{0}.traineddata".format(lang)
])
