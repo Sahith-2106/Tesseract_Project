{
 "cells": [
  {
   "cell_type": "code",
   "execution_count": 7,
   "id": "f34f9090-1fc4-4369-8c81-b34b498fe26e",
   "metadata": {
    "ExecuteTime": {
     "end_time": "2023-12-03T17:35:25.840882Z",
     "start_time": "2023-12-03T17:35:25.836135Z"
    }
   },
   "outputs": [],
   "source": [
    "import pytesseract\n",
    "from PIL import Image"
   ]
  },
  {
   "cell_type": "code",
   "execution_count": 8,
   "id": "a97036ac-4765-4ca3-8bb8-cea572ec5227",
   "metadata": {
    "ExecuteTime": {
     "end_time": "2023-12-03T17:35:25.850405Z",
     "start_time": "2023-12-03T17:35:25.841163Z"
    }
   },
   "outputs": [],
   "source": [
    "image_path = '../Images/Tesseract_Wiki.png'"
   ]
  },
  {
   "cell_type": "code",
   "execution_count": 9,
   "outputs": [],
   "source": [
    "img = Image.open(image_path)"
   ],
   "metadata": {
    "collapsed": false,
    "ExecuteTime": {
     "end_time": "2023-12-03T17:35:25.850859Z",
     "start_time": "2023-12-03T17:35:25.845785Z"
    }
   },
   "id": "6fac3c920f721b85"
  },
  {
   "cell_type": "code",
   "execution_count": 10,
   "outputs": [],
   "source": [
    "text = pytesseract.image_to_string(img)"
   ],
   "metadata": {
    "collapsed": false,
    "ExecuteTime": {
     "end_time": "2023-12-03T17:35:26.952057Z",
     "start_time": "2023-12-03T17:35:25.850684Z"
    }
   },
   "id": "7e6402c9feabfd94"
  },
  {
   "cell_type": "code",
   "execution_count": 11,
   "outputs": [
    {
     "name": "stdout",
     "output_type": "stream",
     "text": [
      "Tesseract\n",
      "\n",
      "Article Talk\n",
      "\n",
      "From Wikipedia, the free encyclopedia\n",
      "\n",
      "This article is about the geometric shape. For other uses, see Tesseract (disambiguation).\n",
      "\n",
      "In geometry, a tesseract is the four-dimensional analogue of the cube; the tesseract is to the cube as the\n",
      "cube is to the square.!\"] Just as the surface of the cube consists of six square faces, the hypersurface of the\n",
      "tesseract consists of eight cubical cells. The tesseract is one of the six convex regular 4-polytopes.\n",
      "\n",
      "The tesseract is also called an 8-cell, Cg, (regular) octachoron, octahedroid,|*! cubic prism, and\n",
      "tetracube.!*! It is the four-dimensional hypercube, or 4-cube as a member of the dimensional family of\n",
      "hypercubes or measure polytopes.) Coxeter labels it the -y4 polytope.'5! The term hypercube without a\n",
      "dimension reference is frequently treated as a synonym for this specific polytope.\n",
      "\n",
      "The Oxford English Dictionary traces the word tesseract to Charles Howard Hinton's 1888 book A New Era of\n",
      "Thought. The term derives from the Greek téssara (técoapa ‘four') and aktis (axtic 'ray'), referring to the\n",
      "four edges from each vertex to other vertices. Hinton originally spelled the word as tessaract.!®l\n"
     ]
    }
   ],
   "source": [
    "print(text)"
   ],
   "metadata": {
    "collapsed": false,
    "ExecuteTime": {
     "end_time": "2023-12-03T17:35:26.957471Z",
     "start_time": "2023-12-03T17:35:26.954746Z"
    }
   },
   "id": "69e767b6f998e2ae"
  },
  {
   "cell_type": "code",
   "execution_count": 11,
   "outputs": [],
   "source": [],
   "metadata": {
    "collapsed": false,
    "ExecuteTime": {
     "end_time": "2023-12-03T17:35:26.961345Z",
     "start_time": "2023-12-03T17:35:26.957685Z"
    }
   },
   "id": "8366e02b2b88c171"
  }
 ],
 "metadata": {
  "kernelspec": {
   "display_name": "Python 3 (ipykernel)",
   "language": "python",
   "name": "python3"
  },
  "language_info": {
   "codemirror_mode": {
    "name": "ipython",
    "version": 3
   },
   "file_extension": ".py",
   "mimetype": "text/x-python",
   "name": "python",
   "nbconvert_exporter": "python",
   "pygments_lexer": "ipython3",
   "version": "3.12.0"
  }
 },
 "nbformat": 4,
 "nbformat_minor": 5
}
